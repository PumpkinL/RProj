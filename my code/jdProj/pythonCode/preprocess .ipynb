{
 "cells": [
  {
   "cell_type": "code",
   "execution_count": 3,
   "metadata": {
    "collapsed": true
   },
   "outputs": [],
   "source": [
    "import tensorflow as tf\n",
    "import numpy as np\n",
    "import pandas as pd"
   ]
  },
  {
   "cell_type": "code",
   "execution_count": 4,
   "metadata": {
    "collapsed": true
   },
   "outputs": [],
   "source": [
    "vocabulary_size=10\n",
    "embedding_size=10\n",
    "n_steps = 2\n",
    "staticV=2\n",
    "n_neurons=20"
   ]
  },
  {
   "cell_type": "code",
   "execution_count": 5,
   "metadata": {
    "collapsed": false
   },
   "outputs": [],
   "source": [
    "embeddings = tf.Variable(tf.random_uniform([vocabulary_size,embedding_size], -1.0, 1.0))"
   ]
  },
  {
   "cell_type": "code",
   "execution_count": 6,
   "metadata": {
    "collapsed": false
   },
   "outputs": [],
   "source": [
    "dynmic = tf.placeholder(tf.int32, shape=[None, n_steps])\n",
    "static = tf.placeholder(tf.float32, shape=[None, n_steps,staticV])\n",
    "embed = tf.nn.embedding_lookup(embeddings, dynmic)"
   ]
  },
  {
   "cell_type": "code",
   "execution_count": 7,
   "metadata": {
    "collapsed": false
   },
   "outputs": [],
   "source": [
    "final=tf.concat([static,embed], 2) \n",
    "seq_length = tf.placeholder(tf.int32, [None])"
   ]
  },
  {
   "cell_type": "code",
   "execution_count": 8,
   "metadata": {
    "collapsed": false
   },
   "outputs": [],
   "source": [
    "basic_cell = tf.contrib.rnn.BasicRNNCell(num_units=n_neurons)"
   ]
  },
  {
   "cell_type": "code",
   "execution_count": 9,
   "metadata": {
    "collapsed": false
   },
   "outputs": [],
   "source": [
    "outputs, states = tf.nn.dynamic_rnn(basic_cell, final, dtype=tf.float32,sequence_length=seq_length)"
   ]
  },
  {
   "cell_type": "code",
   "execution_count": null,
   "metadata": {
    "collapsed": true
   },
   "outputs": [],
   "source": [
    "logits = fully_connected(states, n_outputs, activation_fn=None)"
   ]
  },
  {
   "cell_type": "code",
   "execution_count": 22,
   "metadata": {
    "collapsed": true
   },
   "outputs": [],
   "source": [
    "dynmic_batch = np.array([\n",
    "# step 0 step 1\n",
    "[1,2], # instance 0\n",
    "[2,1], # instance 1 (padded with a zero vector)\n",
    "[3,2], # instance 2\n",
    "[1,1], # instance 3\n",
    "])"
   ]
  },
  {
   "cell_type": "code",
   "execution_count": 23,
   "metadata": {
    "collapsed": false
   },
   "outputs": [],
   "source": [
    "static_batch = np.array([\n",
    "# step 0 step 1\n",
    "[[1,2], [2,3]], # instance 0\n",
    "[[3,5], [2,2]], # instance 1 (padded with a zero vector)\n",
    "[[4,2], [1,3]], # instance 2\n",
    "[[6,6], [7,1]], # instance 3\n",
    "])"
   ]
  },
  {
   "cell_type": "code",
   "execution_count": 33,
   "metadata": {
    "collapsed": true
   },
   "outputs": [],
   "source": [
    "seq_length_batch = np.array([2, 1, 2, 2])"
   ]
  },
  {
   "cell_type": "code",
   "execution_count": 34,
   "metadata": {
    "collapsed": true
   },
   "outputs": [],
   "source": [
    "init = tf.global_variables_initializer()"
   ]
  },
  {
   "cell_type": "code",
   "execution_count": 35,
   "metadata": {
    "collapsed": false
   },
   "outputs": [],
   "source": [
    "with tf.Session() as sess:\n",
    "    init.run()\n",
    "    outputs_val, states_val = sess.run([outputs, states], feed_dict={dynmic: dynmic_batch,static:static_batch, seq_length: seq_length_batch})"
   ]
  },
  {
   "cell_type": "code",
   "execution_count": 39,
   "metadata": {
    "collapsed": false
   },
   "outputs": [
    {
     "name": "stdout",
     "output_type": "stream",
     "text": [
      "[[ 0.21870397 -0.09900062  0.03056277 -0.31662881 -0.55003512 -0.35376579\n",
      "  -0.32242909  0.64170605  0.74582505 -0.59818929 -0.01308138 -0.19389832\n",
      "  -0.49345538  0.75226414  0.81990737 -0.4242436   0.04099693 -0.53163046\n",
      "  -0.09430962 -0.96532482]\n",
      " [ 0.52587807 -0.71348649 -0.71149844 -0.34017473 -0.29629058 -0.7571401\n",
      "  -0.58737427  0.45850912  0.91347688 -0.76467019 -0.33700892  0.05735642\n",
      "  -0.46193507  0.44594771  0.94632858 -0.86137855 -0.18693283 -0.464488\n",
      "  -0.36600748 -0.98739672]\n",
      " [ 0.38910723 -0.11175817 -0.5322867  -0.20268807  0.20504522  0.16953863\n",
      "   0.12040681  0.56131083  0.95844054 -0.78190833 -0.52595621 -0.81520408\n",
      "  -0.17814203  0.10933705  0.8675673  -0.67914784  0.35253745 -0.20317276\n",
      "  -0.32151484 -0.93836886]\n",
      " [-0.6767202  -0.91696513  0.59178692 -0.16309197 -0.68610966  0.90575588\n",
      "  -0.86894792  0.98476756  0.2209297   0.76241463  0.53182268  0.6270588\n",
      "   0.24561362  0.25349292  0.98219687 -0.82150942 -0.89324576  0.64960909\n",
      "   0.93424928 -0.99519515]]\n"
     ]
    }
   ],
   "source": [
    "print(states_val)"
   ]
  },
  {
   "cell_type": "code",
   "execution_count": 38,
   "metadata": {
    "collapsed": false
   },
   "outputs": [
    {
     "name": "stdout",
     "output_type": "stream",
     "text": [
      "[[[ 0.35974729 -0.26202983  0.21741553 -0.1399623  -0.06133469 -0.56916344\n",
      "    0.33624324  0.27480194  0.75910443 -0.63087356  0.2136237  -0.41067725\n",
      "    0.28142783  0.4383018  -0.01660376 -0.39280477  0.11115181 -0.35159653\n",
      "    0.28256893 -0.77819651]\n",
      "  [ 0.21870397 -0.09900062  0.03056277 -0.31662881 -0.55003512 -0.35376579\n",
      "   -0.32242909  0.64170605  0.74582505 -0.59818929 -0.01308138 -0.19389832\n",
      "   -0.49345538  0.75226414  0.81990737 -0.4242436   0.04099693 -0.53163046\n",
      "   -0.09430962 -0.96532482]]\n",
      "\n",
      " [[ 0.52587807 -0.71348649 -0.71149844 -0.34017473 -0.29629058 -0.7571401\n",
      "   -0.58737427  0.45850912  0.91347688 -0.76467019 -0.33700892  0.05735642\n",
      "   -0.46193507  0.44594771  0.94632858 -0.86137855 -0.18693283 -0.464488\n",
      "   -0.36600748 -0.98739672]\n",
      "  [ 0.          0.          0.          0.          0.          0.          0.\n",
      "    0.          0.          0.          0.          0.          0.          0.\n",
      "    0.          0.          0.          0.          0.          0.        ]]\n",
      "\n",
      " [[-0.18980952 -0.71059537 -0.6912263  -0.71210289 -0.67919916 -0.41259369\n",
      "   -0.97489625  0.29024422  0.44671151  0.16885439 -0.44756213  0.87139434\n",
      "   -0.36388874  0.00896303  0.9292497  -0.88747245 -0.6096375   0.79076576\n",
      "    0.27813822 -0.95721501]\n",
      "  [ 0.38910723 -0.11175817 -0.5322867  -0.20268807  0.20504522  0.16953863\n",
      "    0.12040681  0.56131083  0.95844054 -0.78190833 -0.52595621 -0.81520408\n",
      "   -0.17814203  0.10933705  0.8675673  -0.67914784  0.35253745 -0.20317276\n",
      "   -0.32151484 -0.93836886]]\n",
      "\n",
      " [[ 0.6322161  -0.97574311 -0.69859147 -0.3204706  -0.48494124 -0.76577169\n",
      "   -0.69215304  0.83135706  0.8986578  -0.60350204  0.31473398  0.37596813\n",
      "   -0.10325891  0.60380977  0.96804899 -0.9176529  -0.77749425 -0.24114566\n",
      "    0.14043155 -0.99727708]\n",
      "  [-0.6767202  -0.91696513  0.59178692 -0.16309197 -0.68610966  0.90575588\n",
      "   -0.86894792  0.98476756  0.2209297   0.76241463  0.53182268  0.6270588\n",
      "    0.24561362  0.25349292  0.98219687 -0.82150942 -0.89324576  0.64960909\n",
      "    0.93424928 -0.99519515]]]\n"
     ]
    }
   ],
   "source": [
    "print(outputs_val)"
   ]
  },
  {
   "cell_type": "code",
   "execution_count": null,
   "metadata": {
    "collapsed": true
   },
   "outputs": [],
   "source": []
  }
 ],
 "metadata": {
  "anaconda-cloud": {},
  "kernelspec": {
   "display_name": "Python [default]",
   "language": "python",
   "name": "python3"
  },
  "language_info": {
   "codemirror_mode": {
    "name": "ipython",
    "version": 3
   },
   "file_extension": ".py",
   "mimetype": "text/x-python",
   "name": "python",
   "nbconvert_exporter": "python",
   "pygments_lexer": "ipython3",
   "version": "3.5.2"
  }
 },
 "nbformat": 4,
 "nbformat_minor": 1
}

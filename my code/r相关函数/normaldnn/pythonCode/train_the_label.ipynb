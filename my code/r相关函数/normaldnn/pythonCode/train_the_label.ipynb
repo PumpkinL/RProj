{
 "cells": [
  {
   "cell_type": "code",
   "execution_count": 1,
   "metadata": {
    "collapsed": false
   },
   "outputs": [],
   "source": [
    "from __future__ import division\n",
    "import tensorflow as tf\n",
    "import numpy as np\n",
    "import pandas as pd\n",
    "from tensorflow.contrib.layers import fully_connected\n",
    "from tensorflow.contrib.layers import dropout"
   ]
  },
  {
   "cell_type": "code",
   "execution_count": 2,
   "metadata": {
    "collapsed": false
   },
   "outputs": [],
   "source": [
    "#load data\n",
    "UserTargdayLabel = pd.read_csv('C:/Users/Administrator.NBJXUEJUN-LI/Desktop/project/RProj/my code/r相关函数/normaldnn/save/UserTargdayLabel.csv',\n",
    "                      header=0,encoding='gbk' )"
   ]
  },
  {
   "cell_type": "code",
   "execution_count": 3,
   "metadata": {
    "collapsed": false
   },
   "outputs": [],
   "source": [
    "#perpare datas\n",
    "predData  = UserTargdayLabel[UserTargdayLabel['label']==-1]\n",
    "trainData = UserTargdayLabel[UserTargdayLabel['label']!=-1]\n",
    "predX     = np.array(predData.ix[:,3:],dtype=np.float32)\n",
    "allX      = np.array(trainData.ix[:,3:],dtype=np.float32)\n",
    "ally      = np.array(trainData.ix[:,2],dtype=np.float32)\n",
    "ally = ally.reshape((len(ally),1))\n",
    "trainSampNums = int(len(allX)*0.8)\n",
    "colNums       =len(allX[0])\n",
    "trainX     = allX[:trainSampNums]\n",
    "trainy     = ally[:trainSampNums]\n",
    "testX      = allX[trainSampNums:]\n",
    "testy      = ally[trainSampNums:]\n"
   ]
  },
  {
   "cell_type": "code",
   "execution_count": 4,
   "metadata": {
    "collapsed": true
   },
   "outputs": [],
   "source": [
    "#set neurons' dimemsions\n",
    "n_inputs  = colNums\n",
    "n_hidden1 = n_inputs//2\n",
    "n_hidden2 = n_hidden1//4\n",
    "n_hidden3 = n_hidden2//8\n",
    "n_outpus  = 1\n"
   ]
  },
  {
   "cell_type": "code",
   "execution_count": 5,
   "metadata": {
    "collapsed": false,
    "scrolled": true
   },
   "outputs": [],
   "source": [
    "keep_prob = 0.7\n",
    "with tf.name_scope(\"dnn\"):  \n",
    "    is_training = tf.placeholder_with_default(False, shape=(), name='is_training') \n",
    "    X = tf.placeholder(tf.float32, shape=[None, n_inputs])\n",
    "    y = tf.placeholder(tf.float32, shape=[None, n_outpus])\n",
    "    X_drop = dropout(X, keep_prob, is_training=is_training)\n",
    "    hidden1 = fully_connected(X_drop, n_hidden1,  scope=\"hidden1\",activation_fn=tf.nn.tanh)\n",
    "    hidden2 = fully_connected(hidden1, n_hidden2, scope=\"hidden2\",activation_fn=tf.nn.tanh)\n",
    "    hidden3 = fully_connected(hidden2, n_hidden3, scope=\"hidden3\",activation_fn=tf.nn.tanh)\n",
    "    logits  = fully_connected(hidden2, n_outpus, scope=\"outputs\", activation_fn=None)"
   ]
  },
  {
   "cell_type": "code",
   "execution_count": 6,
   "metadata": {
    "collapsed": false,
    "scrolled": true
   },
   "outputs": [],
   "source": [
    "with tf.name_scope(\"loss\"):\n",
    "    xentropy = tf.nn.sigmoid_cross_entropy_with_logits(labels=y, logits=logits)\n",
    "    loss = tf.reduce_mean(xentropy, name=\"loss\")"
   ]
  },
  {
   "cell_type": "code",
   "execution_count": 7,
   "metadata": {
    "collapsed": false
   },
   "outputs": [],
   "source": [
    "learning_rate = 0.0001\n",
    "with tf.name_scope(\"train\"):\n",
    "    optimizer = tf.train.GradientDescentOptimizer(learning_rate)\n",
    "    training_op = optimizer.minimize(loss)"
   ]
  },
  {
   "cell_type": "code",
   "execution_count": 8,
   "metadata": {
    "collapsed": false
   },
   "outputs": [],
   "source": [
    "with tf.name_scope(\"eval\"):\n",
    "    #correct = tf.nn.in_top_k(logits, y, 1)\n",
    "    #accuracy = tf.reduce_mean(tf.cast(correct, tf.float32))\n",
    "    prediction = tf.round(tf.sigmoid(logits))\n",
    "    predictions_correct = tf.cast(tf.equal(prediction, y),tf.float32)\n",
    "    accuracy = tf.reduce_mean(predictions_correct)"
   ]
  },
  {
   "cell_type": "code",
   "execution_count": 9,
   "metadata": {
    "collapsed": false
   },
   "outputs": [
    {
     "name": "stdout",
     "output_type": "stream",
     "text": [
      "0.271825 0.206349\n",
      "0.694444 0.738095\n",
      "0.777778 0.793651\n",
      "0.827381 0.81746\n",
      "0.833333 0.849206\n",
      "0.84127 0.873016\n",
      "0.843254 0.880952\n",
      "0.843254 0.880952\n",
      "0.847222 0.880952\n",
      "0.847222 0.888889\n",
      "0.847222 0.888889\n",
      "0.847222 0.888889\n",
      "0.847222 0.888889\n",
      "0.847222 0.888889\n",
      "0.847222 0.888889\n",
      "0.847222 0.888889\n",
      "0.847222 0.888889\n",
      "0.847222 0.888889\n",
      "0.847222 0.888889\n",
      "0.847222 0.888889\n",
      "0.847222 0.888889\n",
      "0.847222 0.888889\n",
      "0.847222 0.888889\n",
      "0.847222 0.888889\n",
      "0.847222 0.888889\n",
      "0.847222 0.888889\n",
      "0.847222 0.888889\n",
      "0.847222 0.888889\n",
      "0.847222 0.888889\n",
      "0.847222 0.888889\n"
     ]
    }
   ],
   "source": [
    "init = tf.global_variables_initializer()\n",
    "n_epochs = 3000\n",
    "batch_size = 1000\n",
    "batch_num = len(trainX) // batch_size+1\n",
    "with tf.Session() as sess:\n",
    "    init.run()\n",
    "    for epoch in range(n_epochs):  \n",
    "        for batch in range(batch_num):\n",
    "            X_batch, y_batch = trainX[batch*batch_size:(batch+1)*batch_size],trainy[batch*batch_size:(batch+1)*batch_size]\n",
    "            sess.run(training_op, feed_dict={X: X_batch,y:y_batch,is_training:True})\n",
    "        if epoch%100==0:\n",
    "            train_accu = accuracy.eval(feed_dict={X: trainX,y:trainy})\n",
    "            test_accu  = accuracy.eval(feed_dict={X: testX, y:testy})\n",
    "            print(train_accu,test_accu)\n"
   ]
  },
  {
   "cell_type": "code",
   "execution_count": null,
   "metadata": {
    "collapsed": true
   },
   "outputs": [],
   "source": []
  }
 ],
 "metadata": {
  "anaconda-cloud": {},
  "kernelspec": {
   "display_name": "Python [conda root]",
   "language": "python",
   "name": "conda-root-py"
  },
  "language_info": {
   "codemirror_mode": {
    "name": "ipython",
    "version": 3
   },
   "file_extension": ".py",
   "mimetype": "text/x-python",
   "name": "python",
   "nbconvert_exporter": "python",
   "pygments_lexer": "ipython3",
   "version": "3.5.2"
  }
 },
 "nbformat": 4,
 "nbformat_minor": 1
}

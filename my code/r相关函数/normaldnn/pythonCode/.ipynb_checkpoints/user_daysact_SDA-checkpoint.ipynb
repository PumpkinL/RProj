{
 "cells": [
  {
   "cell_type": "code",
   "execution_count": 1,
   "metadata": {
    "collapsed": false
   },
   "outputs": [],
   "source": [
    "from __future__ import division\n",
    "import tensorflow as tf\n",
    "import numpy as np\n",
    "import pandas as pd\n",
    "from tensorflow.contrib.layers import fully_connected\n",
    "from tensorflow.contrib.layers import dropout"
   ]
  },
  {
   "cell_type": "code",
   "execution_count": 2,
   "metadata": {
    "collapsed": false
   },
   "outputs": [],
   "source": [
    "#load data\n",
    "daysActivities = pd.read_csv('C:/Users/Administrator.NBJXUEJUN-LI/Desktop/project/RProj/my code/r相关函数/normaldnn/save/daysActivities.csv',\n",
    "                      header=0,encoding='gbk' )"
   ]
  },
  {
   "cell_type": "code",
   "execution_count": 3,
   "metadata": {
    "collapsed": true
   },
   "outputs": [],
   "source": [
    "trainNums =int(len(daysActivities)*0.9)\n",
    "trainData = daysActivities[:trainNums]\n",
    "testData = daysActivities[trainNums:]\n"
   ]
  },
  {
   "cell_type": "code",
   "execution_count": 4,
   "metadata": {
    "collapsed": true
   },
   "outputs": [],
   "source": [
    "n_inputs = len(daysActivities.columns)\n",
    "n_hidden1 = n_inputs//3\n",
    "n_hidden2 = n_hidden1//3\n",
    "learning_rate=0.0001"
   ]
  },
  {
   "cell_type": "code",
   "execution_count": 6,
   "metadata": {
    "collapsed": false,
    "scrolled": true
   },
   "outputs": [],
   "source": [
    "activation = tf.nn.elu\n",
    "initializer = tf.contrib.layers.variance_scaling_initializer()\n",
    "is_training = tf.placeholder_with_default(False, shape=(), name='is_training')\n",
    "keep_prob = 0.7\n",
    "\n",
    "X = tf.placeholder(tf.float32, shape=[None, n_inputs])\n",
    "X_drop = dropout(X, keep_prob, is_training=is_training)\n",
    "\n",
    "weights1_init = initializer([n_inputs, n_hidden1])\n",
    "weights2_init = initializer([n_hidden1, n_hidden2])\n",
    "\n",
    "weights1 = tf.Variable(weights1_init, dtype=tf.float32, name=\"weights1\")\n",
    "weights2 = tf.Variable(weights2_init, dtype=tf.float32, name=\"weights2\")\n",
    "\n",
    "weights3 = tf.transpose(weights2, name=\"weights3\") # tied weights\n",
    "weights4 = tf.transpose(weights1, name=\"weights4\") # tied weights\n",
    "\n",
    "biases1 = tf.Variable(tf.zeros(n_hidden1), name=\"biases1\")\n",
    "biases2 = tf.Variable(tf.zeros(n_hidden2), name=\"biases2\")\n",
    "biases3 = tf.Variable(tf.zeros(n_hidden1), name=\"biases3\")\n",
    "biases4 = tf.Variable(tf.zeros(n_inputs), name=\"biases4\")\n",
    "\n",
    "hidden1 = activation(tf.matmul(X_drop, weights1) + biases1)\n",
    "hidden2 = activation(tf.matmul(hidden1, weights2) + biases2)\n",
    "hidden3 = activation(tf.matmul(hidden2, weights3) + biases3)\n",
    "outputs = tf.matmul(hidden3, weights4) + biases4\n",
    "codings = hidden2\n",
    "\n",
    "loss = tf.reduce_mean(tf.square(outputs - X)) \n",
    "\n",
    "\n",
    "optimizer = tf.train.AdamOptimizer(learning_rate)\n",
    "training_op = optimizer.minimize(loss)\n",
    "init = tf.global_variables_initializer()"
   ]
  },
  {
   "cell_type": "code",
   "execution_count": 7,
   "metadata": {
    "collapsed": false
   },
   "outputs": [
    {
     "name": "stdout",
     "output_type": "stream",
     "text": [
      "0.151364 0.154117\n",
      "0.0326282 0.0333279\n",
      "0.0172211 0.0176393\n",
      "0.0131535 0.0134935\n",
      "0.0108009 0.011105\n",
      "0.00945342 0.00973694\n",
      "0.00871147 0.00897997\n",
      "0.00805361 0.00831065\n",
      "0.00737774 0.00762385\n",
      "0.00672796 0.00696296\n"
     ]
    }
   ],
   "source": [
    "n_epochs = 100\n",
    "batch_size = 1000\n",
    "batch_num = len(daysActivities) // batch_size+1\n",
    "with tf.Session() as sess:\n",
    "    init.run()\n",
    "    for epoch in range(n_epochs):  \n",
    "        for batch in range(batch_num):\n",
    "            X_batch, y_batch = trainData[batch*batch_size:(batch+1)*batch_size],1\n",
    "            sess.run(training_op, feed_dict={X: X_batch,is_training:True})\n",
    "        if epoch%10==0:\n",
    "            train_loss_eval = loss.eval(feed_dict={X: trainData})\n",
    "            test_loss_eval  = loss.eval(feed_dict={X: testData})\n",
    "            print(train_loss_eval,test_loss_eval)\n",
    "    codings_evl = codings.eval(feed_dict={X: daysActivities})"
   ]
  },
  {
   "cell_type": "code",
   "execution_count": null,
   "metadata": {
    "collapsed": false
   },
   "outputs": [],
   "source": [
    "codings_evl.shape"
   ]
  },
  {
   "cell_type": "code",
   "execution_count": null,
   "metadata": {
    "collapsed": false
   },
   "outputs": [],
   "source": [
    "daysActivities.shape"
   ]
  },
  {
   "cell_type": "code",
   "execution_count": null,
   "metadata": {
    "collapsed": false
   },
   "outputs": [],
   "source": [
    "codings_evl"
   ]
  },
  {
   "cell_type": "code",
   "execution_count": null,
   "metadata": {
    "collapsed": true
   },
   "outputs": [],
   "source": []
  }
 ],
 "metadata": {
  "anaconda-cloud": {},
  "kernelspec": {
   "display_name": "Python [conda root]",
   "language": "python",
   "name": "conda-root-py"
  },
  "language_info": {
   "codemirror_mode": {
    "name": "ipython",
    "version": 3
   },
   "file_extension": ".py",
   "mimetype": "text/x-python",
   "name": "python",
   "nbconvert_exporter": "python",
   "pygments_lexer": "ipython3",
   "version": "3.5.2"
  }
 },
 "nbformat": 4,
 "nbformat_minor": 1
}

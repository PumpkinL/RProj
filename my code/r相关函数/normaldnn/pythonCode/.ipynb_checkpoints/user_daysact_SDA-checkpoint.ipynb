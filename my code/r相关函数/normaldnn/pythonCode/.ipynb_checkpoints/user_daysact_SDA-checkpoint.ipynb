{
 "cells": [
  {
   "cell_type": "code",
   "execution_count": 1,
   "metadata": {
    "collapsed": false
   },
   "outputs": [],
   "source": [
    "from __future__ import division\n",
    "import tensorflow as tf\n",
    "import numpy as np\n",
    "import pandas as pd\n",
    "from tensorflow.contrib.layers import fully_connected\n",
    "from tensorflow.contrib.layers import dropout"
   ]
  },
  {
   "cell_type": "code",
   "execution_count": 2,
   "metadata": {
    "collapsed": false
   },
   "outputs": [],
   "source": [
    "#load data\n",
    "daysActivities = pd.read_csv('C:/Users/Administrator.NBJXUEJUN-LI/Desktop/project/RProj/my code/r相关函数/normaldnn/save/daysActivities.csv',\n",
    "                      header=0,encoding='gbk' )"
   ]
  },
  {
   "cell_type": "code",
   "execution_count": 3,
   "metadata": {
    "collapsed": true
   },
   "outputs": [],
   "source": [
    "user_day = daysActivities.ix[:,:2]\n",
    "daysActivities = np.array(daysActivities.ix[:,2:],dtype=np.float32)\n",
    "rowNum = len(daysActivities)\n",
    "colNum = len(daysActivities[0])\n",
    "trainNums =int(rowNum*0.9)\n",
    "trainData = daysActivities[:trainNums]\n",
    "testData = daysActivities[trainNums:]\n",
    "\n",
    "missData = np.array([np.zeros(colNum)],dtype=np.float32)"
   ]
  },
  {
   "cell_type": "code",
   "execution_count": 4,
   "metadata": {
    "collapsed": true
   },
   "outputs": [],
   "source": [
    "n_inputs = colNum\n",
    "n_hidden1 = n_inputs//3\n",
    "n_hidden2 = n_hidden1//3\n",
    "n_hidden3 = n_hidden2//3\n",
    "n_hidden4 = n_hidden2\n",
    "n_hidden5 = n_hidden1\n",
    "n_outpus = n_inputs\n",
    "\n",
    "learning_rate=0.0001"
   ]
  },
  {
   "cell_type": "code",
   "execution_count": 5,
   "metadata": {
    "collapsed": false,
    "scrolled": true
   },
   "outputs": [],
   "source": [
    "activation = tf.nn.elu\n",
    "initializer = tf.contrib.layers.variance_scaling_initializer()\n",
    "is_training = tf.placeholder_with_default(False, shape=(), name='is_training')\n",
    "keep_prob = 0.7\n",
    "\n",
    "X = tf.placeholder(tf.float32, shape=[None, n_inputs])\n",
    "X_drop = dropout(X, keep_prob, is_training=is_training)\n",
    "\n",
    "weights1_init = initializer([n_inputs, n_hidden1])\n",
    "weights2_init = initializer([n_hidden1, n_hidden2])\n",
    "weights3_init = initializer([n_hidden2, n_hidden3])\n",
    "\n",
    "weights1 = tf.Variable(weights1_init, dtype=tf.float32, name=\"weights1\")\n",
    "weights2 = tf.Variable(weights2_init, dtype=tf.float32, name=\"weights2\")\n",
    "weights3 = tf.Variable(weights3_init, dtype=tf.float32, name=\"weights3\")\n",
    "\n",
    "weights4 = tf.transpose(weights3, name=\"weights4\") # tied weights\n",
    "weights5 = tf.transpose(weights2, name=\"weights5\") # tied weights\n",
    "weights6 = tf.transpose(weights1, name=\"weights6\") # tied weights\n",
    "\n",
    "biases1 = tf.Variable(tf.zeros(n_hidden1), name=\"biases1\")\n",
    "biases2 = tf.Variable(tf.zeros(n_hidden2), name=\"biases2\")\n",
    "biases3 = tf.Variable(tf.zeros(n_hidden3), name=\"biases3\")\n",
    "biases4 = tf.Variable(tf.zeros(n_hidden4), name=\"biases4\")\n",
    "biases5 = tf.Variable(tf.zeros(n_hidden5), name=\"biases5\")\n",
    "biases6 = tf.Variable(tf.zeros(n_outpus),  name=\"biases6\")\n",
    "\n",
    "hidden1 = activation(tf.matmul(X_drop,  weights1) + biases1)\n",
    "hidden2 = activation(tf.matmul(hidden1, weights2) + biases2)\n",
    "hidden3 = activation(tf.matmul(hidden2, weights3) + biases3)\n",
    "hidden4 = activation(tf.matmul(hidden3, weights4) + biases4)\n",
    "hidden5 = activation(tf.matmul(hidden4, weights5) + biases5)\n",
    "outputs = tf.matmul(hidden5, weights6) + biases6\n",
    "\n",
    "codings = hidden3\n",
    "\n",
    "loss = tf.reduce_mean(tf.square(outputs - X)) \n",
    "\n",
    "\n",
    "optimizer = tf.train.AdamOptimizer(learning_rate)\n",
    "training_op = optimizer.minimize(loss)\n",
    "init = tf.global_variables_initializer()"
   ]
  },
  {
   "cell_type": "code",
   "execution_count": 6,
   "metadata": {
    "collapsed": false,
    "scrolled": true
   },
   "outputs": [
    {
     "name": "stdout",
     "output_type": "stream",
     "text": [
      "0.0551938 0.0567046\n",
      "0.0354374 0.0363083\n",
      "0.0168065 0.017149\n",
      "0.0119999 0.0123052\n",
      "0.0101738 0.0104545\n",
      "0.00962126 0.00988328\n",
      "0.0089885 0.00923268\n",
      "0.0083186 0.00854319\n",
      "0.00765425 0.00785282\n",
      "0.00713577 0.00732261\n",
      "0.00678054 0.0069606\n",
      "0.0065029 0.00667963\n",
      "0.00628118 0.00645531\n",
      "0.00608571 0.00625741\n",
      "0.00593768 0.00610571\n",
      "0.00581814 0.00598246\n",
      "0.00571718 0.00587712\n",
      "0.00563179 0.0057864\n",
      "0.00554471 0.0056925\n",
      "0.00546179 0.00560355\n",
      "0.00537025 0.00550566\n",
      "0.0052755 0.00540555\n",
      "0.00517271 0.00529701\n",
      "0.0050584 0.00517663\n",
      "0.00495031 0.00506213\n",
      "0.00484819 0.00495502\n",
      "0.00475736 0.00485704\n",
      "0.00466107 0.00475317\n",
      "0.00458129 0.0046673\n",
      "0.00449922 0.00457823\n",
      "0.00443017 0.00450393\n",
      "0.00436314 0.00443301\n",
      "0.0043135 0.00438061\n",
      "0.00426017 0.00432557\n",
      "0.00421866 0.0042824\n",
      "0.00417489 0.00423843\n",
      "0.00412403 0.00418628\n",
      "0.00409384 0.00415603\n",
      "0.00406639 0.00413021\n",
      "0.0040251 0.00408923\n",
      "0.0039931 0.00405719\n",
      "0.00396021 0.00402588\n",
      "0.00392677 0.00399317\n",
      "0.00389218 0.00396108\n",
      "0.00385275 0.00392219\n",
      "0.00382131 0.00389274\n",
      "0.00378646 0.00385802\n",
      "0.00375533 0.00382841\n",
      "0.0037175 0.00379004\n",
      "0.003689 0.00376258\n",
      "0.00366977 0.00374217\n",
      "0.00363994 0.0037106\n",
      "0.0036125 0.0036811\n",
      "0.00358636 0.00365487\n",
      "0.00357155 0.00363683\n",
      "0.00354933 0.00361384\n",
      "0.00352714 0.00359006\n",
      "0.00351621 0.00357731\n",
      "0.00349706 0.00355713\n",
      "0.00349047 0.00354914\n",
      "0.00346489 0.00352319\n",
      "0.00345227 0.0035084\n",
      "0.0034323 0.00348859\n",
      "0.00342931 0.00348338\n",
      "0.00341284 0.00346646\n",
      "0.0034001 0.00345216\n",
      "0.00339615 0.00344645\n",
      "0.00338358 0.00343382\n",
      "0.00338046 0.00342932\n",
      "0.00336752 0.00341503\n",
      "0.00334968 0.00339689\n",
      "0.00335132 0.00339695\n",
      "0.00333546 0.00338076\n",
      "0.00332429 0.00336883\n",
      "0.00332726 0.00337026\n",
      "0.00330524 0.00334762\n",
      "0.00330535 0.00334591\n",
      "0.00329264 0.00333313\n",
      "0.00327228 0.00331052\n",
      "0.00327432 0.00331361\n",
      "0.0032555 0.00329285\n",
      "0.0032451 0.00328156\n",
      "0.00323192 0.00326835\n",
      "0.00322755 0.00326328\n",
      "0.00321225 0.00324715\n",
      "0.00320383 0.00323784\n",
      "0.0031998 0.00323156\n",
      "0.00318686 0.00321888\n",
      "0.00317717 0.00320797\n",
      "0.00317787 0.00320757\n",
      "0.00315177 0.00318038\n",
      "0.0031534 0.00318151\n",
      "0.00313824 0.00316698\n",
      "0.00312954 0.00315649\n",
      "0.00311604 0.00314332\n",
      "0.00311474 0.00314038\n",
      "0.003091 0.00311636\n",
      "0.0030947 0.00311931\n",
      "0.00308655 0.00310921\n",
      "0.00307758 0.00310022\n",
      "0.00306844 0.00309024\n"
     ]
    }
   ],
   "source": [
    "n_epochs = 1000\n",
    "batch_size = 1000\n",
    "batch_num = len(daysActivities) // batch_size+1\n",
    "with tf.Session() as sess:\n",
    "    init.run()\n",
    "    train_loss_eval = loss.eval(feed_dict={X: trainData})\n",
    "    test_loss_eval  = loss.eval(feed_dict={X: testData})\n",
    "    print(train_loss_eval,test_loss_eval)\n",
    "    for epoch in range(n_epochs):  \n",
    "        for batch in range(batch_num):\n",
    "            X_batch, y_batch = trainData[batch*batch_size:(batch+1)*batch_size],1\n",
    "            sess.run(training_op, feed_dict={X: X_batch,is_training:True})\n",
    "        if epoch%10==0:\n",
    "            train_loss_eval = loss.eval(feed_dict={X: trainData})\n",
    "            test_loss_eval  = loss.eval(feed_dict={X: testData})\n",
    "            print(train_loss_eval,test_loss_eval)\n",
    "    codings_evl  = codings.eval(feed_dict={X: daysActivities})\n",
    "    miss_codings = codings.eval(feed_dict={X:missData})"
   ]
  },
  {
   "cell_type": "code",
   "execution_count": 7,
   "metadata": {
    "collapsed": false
   },
   "outputs": [
    {
     "data": {
      "text/plain": [
       "(28675, 8)"
      ]
     },
     "execution_count": 7,
     "metadata": {},
     "output_type": "execute_result"
    }
   ],
   "source": [
    "codings_evl.shape"
   ]
  },
  {
   "cell_type": "code",
   "execution_count": 8,
   "metadata": {
    "collapsed": false
   },
   "outputs": [
    {
     "data": {
      "text/plain": [
       "array([[ 0.43358815,  0.16113123, -0.08860826, ...,  0.60791403,\n",
       "         0.07670967, -0.36844701],\n",
       "       [ 1.01594234, -0.47602832,  0.09613584, ...,  1.71617234,\n",
       "         0.42509669,  0.40257451],\n",
       "       [-0.14065027, -0.02718359, -0.02909446, ...,  0.49546236,\n",
       "         0.23974399, -0.3511135 ],\n",
       "       ..., \n",
       "       [ 0.84295261, -0.75515282,  1.21192527, ...,  0.78072393,\n",
       "         0.46267301,  0.63268906],\n",
       "       [ 0.73270649, -0.78523695,  1.18028617, ...,  0.77345359,\n",
       "         0.45530546,  0.60002083],\n",
       "       [-0.08485007, -0.01234508, -0.3159641 , ...,  0.30489925,\n",
       "         0.21542014, -0.25006795]], dtype=float32)"
      ]
     },
     "execution_count": 8,
     "metadata": {},
     "output_type": "execute_result"
    }
   ],
   "source": [
    "codings_evl"
   ]
  },
  {
   "cell_type": "code",
   "execution_count": 9,
   "metadata": {
    "collapsed": false
   },
   "outputs": [
    {
     "data": {
      "text/plain": [
       "array([[ 0.43358815,  0.16113123, -0.08860826, ...,  0.60791403,\n",
       "         0.07670967, -0.36844701],\n",
       "       [ 1.01594234, -0.47602832,  0.09613584, ...,  1.71617234,\n",
       "         0.42509669,  0.40257451],\n",
       "       [-0.14065027, -0.02718359, -0.02909446, ...,  0.49546236,\n",
       "         0.23974399, -0.3511135 ],\n",
       "       ..., \n",
       "       [ 0.84295261, -0.75515282,  1.21192527, ...,  0.78072393,\n",
       "         0.46267301,  0.63268906],\n",
       "       [ 0.73270649, -0.78523695,  1.18028617, ...,  0.77345359,\n",
       "         0.45530546,  0.60002083],\n",
       "       [-0.08485007, -0.01234508, -0.3159641 , ...,  0.30489925,\n",
       "         0.21542014, -0.25006795]], dtype=float32)"
      ]
     },
     "execution_count": 9,
     "metadata": {},
     "output_type": "execute_result"
    }
   ],
   "source": [
    "codings_evl"
   ]
  },
  {
   "cell_type": "code",
   "execution_count": null,
   "metadata": {
    "collapsed": true
   },
   "outputs": [],
   "source": []
  }
 ],
 "metadata": {
  "anaconda-cloud": {},
  "kernelspec": {
   "display_name": "Python [conda root]",
   "language": "python",
   "name": "conda-root-py"
  },
  "language_info": {
   "codemirror_mode": {
    "name": "ipython",
    "version": 3
   },
   "file_extension": ".py",
   "mimetype": "text/x-python",
   "name": "python",
   "nbconvert_exporter": "python",
   "pygments_lexer": "ipython3",
   "version": "3.5.2"
  }
 },
 "nbformat": 4,
 "nbformat_minor": 1
}

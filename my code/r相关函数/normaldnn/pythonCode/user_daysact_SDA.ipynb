{
 "cells": [
  {
   "cell_type": "code",
   "execution_count": 10,
   "metadata": {
    "collapsed": false
   },
   "outputs": [],
   "source": [
    "from __future__ import division\n",
    "import tensorflow as tf\n",
    "import numpy as np\n",
    "import pandas as pd\n",
    "from tensorflow.contrib.layers import fully_connected\n",
    "from tensorflow.contrib.layers import dropout"
   ]
  },
  {
   "cell_type": "code",
   "execution_count": 11,
   "metadata": {
    "collapsed": false
   },
   "outputs": [],
   "source": [
    "#load data\n",
    "daysActivities = pd.read_csv('C:/Users/Administrator.NBJXUEJUN-LI/Desktop/project/RProj/my code/r相关函数/normaldnn/save/daysActivities.csv',\n",
    "                      header=0,encoding='gbk' )"
   ]
  },
  {
   "cell_type": "code",
   "execution_count": 13,
   "metadata": {
    "collapsed": true
   },
   "outputs": [],
   "source": [
    "user_day = daysActivities.ix[:,:2]\n",
    "daysActivities = np.array(daysActivities.ix[:,2:],dtype=np.float32)\n",
    "rowNum = len(daysActivities)\n",
    "colNum = len(daysActivities[0])\n",
    "trainNums =int(rowNum*0.9)\n",
    "trainData = daysActivities[:trainNums]\n",
    "testData = daysActivities[trainNums:]\n",
    "\n",
    "missData = np.array([np.zeros(colNum)],dtype=np.float32)"
   ]
  },
  {
   "cell_type": "code",
   "execution_count": 14,
   "metadata": {
    "collapsed": true
   },
   "outputs": [],
   "source": [
    "n_inputs = colNum\n",
    "n_hidden1 = n_inputs//3\n",
    "n_hidden2 = n_hidden1//3\n",
    "n_hidden3 = n_hidden2//3\n",
    "n_hidden4 = n_hidden2\n",
    "n_hidden5 = n_hidden1\n",
    "n_outpus = n_inputs\n",
    "\n",
    "learning_rate=0.0001"
   ]
  },
  {
   "cell_type": "code",
   "execution_count": 15,
   "metadata": {
    "collapsed": false,
    "scrolled": true
   },
   "outputs": [],
   "source": [
    "activation = tf.nn.elu\n",
    "initializer = tf.contrib.layers.variance_scaling_initializer()\n",
    "is_training = tf.placeholder_with_default(False, shape=(), name='is_training')\n",
    "keep_prob = 0.7\n",
    "\n",
    "X = tf.placeholder(tf.float32, shape=[None, n_inputs])\n",
    "X_drop = dropout(X, keep_prob, is_training=is_training)\n",
    "\n",
    "weights1_init = initializer([n_inputs, n_hidden1])\n",
    "weights2_init = initializer([n_hidden1, n_hidden2])\n",
    "weights3_init = initializer([n_hidden2, n_hidden3])\n",
    "\n",
    "weights1 = tf.Variable(weights1_init, dtype=tf.float32, name=\"weights1\")\n",
    "weights2 = tf.Variable(weights2_init, dtype=tf.float32, name=\"weights2\")\n",
    "weights3 = tf.Variable(weights3_init, dtype=tf.float32, name=\"weights3\")\n",
    "\n",
    "weights4 = tf.transpose(weights3, name=\"weights4\") # tied weights\n",
    "weights5 = tf.transpose(weights2, name=\"weights5\") # tied weights\n",
    "weights6 = tf.transpose(weights1, name=\"weights6\") # tied weights\n",
    "\n",
    "biases1 = tf.Variable(tf.zeros(n_hidden1), name=\"biases1\")\n",
    "biases2 = tf.Variable(tf.zeros(n_hidden2), name=\"biases2\")\n",
    "biases3 = tf.Variable(tf.zeros(n_hidden3), name=\"biases3\")\n",
    "biases4 = tf.Variable(tf.zeros(n_hidden4), name=\"biases4\")\n",
    "biases5 = tf.Variable(tf.zeros(n_hidden5), name=\"biases5\")\n",
    "biases6 = tf.Variable(tf.zeros(n_outpus),  name=\"biases6\")\n",
    "\n",
    "hidden1 = activation(tf.matmul(X_drop,  weights1) + biases1)\n",
    "hidden2 = activation(tf.matmul(hidden1, weights2) + biases2)\n",
    "hidden3 = activation(tf.matmul(hidden2, weights3) + biases3)\n",
    "hidden4 = activation(tf.matmul(hidden3, weights4) + biases4)\n",
    "hidden5 = activation(tf.matmul(hidden4, weights5) + biases5)\n",
    "outputs = tf.matmul(hidden5, weights6) + biases6\n",
    "\n",
    "codings = hidden3\n",
    "\n",
    "loss = tf.reduce_mean(tf.square(outputs - X)) \n",
    "\n",
    "\n",
    "optimizer = tf.train.AdamOptimizer(learning_rate)\n",
    "training_op = optimizer.minimize(loss)\n",
    "init = tf.global_variables_initializer()"
   ]
  },
  {
   "cell_type": "code",
   "execution_count": 17,
   "metadata": {
    "collapsed": false,
    "scrolled": true
   },
   "outputs": [
    {
     "name": "stdout",
     "output_type": "stream",
     "text": [
      "0.0278938 0.0305977\n",
      "0.0118577 0.0132249\n",
      "0.00433203 0.00476453\n",
      "0.00360745 0.00393782\n"
     ]
    }
   ],
   "source": [
    "n_epochs = 30\n",
    "batch_size = 1000\n",
    "batch_num = len(daysActivities) // batch_size+1\n",
    "with tf.Session() as sess:\n",
    "    init.run()\n",
    "    train_loss_eval = loss.eval(feed_dict={X: trainData})\n",
    "    test_loss_eval  = loss.eval(feed_dict={X: testData})\n",
    "    print(train_loss_eval,test_loss_eval)\n",
    "    for epoch in range(n_epochs):  \n",
    "        for batch in range(batch_num):\n",
    "            X_batch, y_batch = trainData[batch*batch_size:(batch+1)*batch_size],1\n",
    "            sess.run(training_op, feed_dict={X: X_batch,is_training:True})\n",
    "        if epoch%10==0:\n",
    "            train_loss_eval = loss.eval(feed_dict={X: trainData})\n",
    "            test_loss_eval  = loss.eval(feed_dict={X: testData})\n",
    "            print(train_loss_eval,test_loss_eval)\n",
    "    codings_evl  = codings.eval(feed_dict={X: daysActivities})\n",
    "    miss_codings = codings.eval(feed_dict={X:missData})"
   ]
  },
  {
   "cell_type": "code",
   "execution_count": 18,
   "metadata": {
    "collapsed": false
   },
   "outputs": [],
   "source": [
    "codings_evl = pd.DataFrame(codings_evl)\n",
    "codings_evl[['user_id','day']]=user_day\n",
    "default_codings = pd.DataFrame(miss_codings)"
   ]
  },
  {
   "cell_type": "code",
   "execution_count": 21,
   "metadata": {
    "collapsed": false
   },
   "outputs": [],
   "source": [
    "codings_evl.to_csv('C:/Users/Administrator.NBJXUEJUN-LI/Desktop/project/RProj/my code/r相关函数/normaldnn/save/daysActivities_prop_coding.csv')\n",
    "default_codings.to_csv('C:/Users/Administrator.NBJXUEJUN-LI/Desktop/project/RProj/my code/r相关函数/normaldnn/save/daysActivities_prop_default_coding.csv')"
   ]
  },
  {
   "cell_type": "code",
   "execution_count": null,
   "metadata": {
    "collapsed": true
   },
   "outputs": [],
   "source": []
  }
 ],
 "metadata": {
  "anaconda-cloud": {},
  "kernelspec": {
   "display_name": "Python [conda root]",
   "language": "python",
   "name": "conda-root-py"
  },
  "language_info": {
   "codemirror_mode": {
    "name": "ipython",
    "version": 3
   },
   "file_extension": ".py",
   "mimetype": "text/x-python",
   "name": "python",
   "nbconvert_exporter": "python",
   "pygments_lexer": "ipython3",
   "version": "3.5.2"
  }
 },
 "nbformat": 4,
 "nbformat_minor": 1
}

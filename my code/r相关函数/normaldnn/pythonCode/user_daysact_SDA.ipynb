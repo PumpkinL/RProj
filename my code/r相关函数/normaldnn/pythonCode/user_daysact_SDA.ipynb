{
 "cells": [
  {
   "cell_type": "code",
   "execution_count": 1,
   "metadata": {
    "collapsed": false
   },
   "outputs": [],
   "source": [
    "from __future__ import division\n",
    "import tensorflow as tf\n",
    "import numpy as np\n",
    "import pandas as pd\n",
    "from tensorflow.contrib.layers import fully_connected\n",
    "from tensorflow.contrib.layers import dropout"
   ]
  },
  {
   "cell_type": "code",
   "execution_count": 2,
   "metadata": {
    "collapsed": false
   },
   "outputs": [],
   "source": [
    "#load data\n",
    "daysActivities = pd.read_csv('C:/Users/Administrator.NBJXUEJUN-LI/Desktop/project/RProj/my code/r相关函数/normaldnn/save/daysActivities.csv',\n",
    "                      header=0,encoding='gbk' )"
   ]
  },
  {
   "cell_type": "code",
   "execution_count": 3,
   "metadata": {
    "collapsed": true
   },
   "outputs": [],
   "source": [
    "trainNums =int(len(daysActivities)*0.9)\n",
    "trainData = daysActivities[:trainNums]\n",
    "testData = daysActivities[trainNums:]\n"
   ]
  },
  {
   "cell_type": "code",
   "execution_count": 4,
   "metadata": {
    "collapsed": true
   },
   "outputs": [],
   "source": [
    "n_inputs = len(daysActivities.columns)\n",
    "n_hidden1 = n_inputs//3\n",
    "n_hidden2 = n_hidden1//3\n",
    "n_hidden3 = n_hidden2//3\n",
    "n_hidden4 = n_hidden2\n",
    "n_hidden5 = n_hidden1\n",
    "n_outpus = n_inputs\n",
    "\n",
    "learning_rate=0.0001"
   ]
  },
  {
   "cell_type": "code",
   "execution_count": 6,
   "metadata": {
    "collapsed": false,
    "scrolled": true
   },
   "outputs": [],
   "source": [
    "activation = tf.nn.elu\n",
    "initializer = tf.contrib.layers.variance_scaling_initializer()\n",
    "is_training = tf.placeholder_with_default(False, shape=(), name='is_training')\n",
    "keep_prob = 0.7\n",
    "\n",
    "X = tf.placeholder(tf.float32, shape=[None, n_inputs])\n",
    "X_drop = dropout(X, keep_prob, is_training=is_training)\n",
    "\n",
    "weights1_init = initializer([n_inputs, n_hidden1])\n",
    "weights2_init = initializer([n_hidden1, n_hidden2])\n",
    "weights3_init = initializer([n_hidden2, n_hidden3])\n",
    "\n",
    "weights1 = tf.Variable(weights1_init, dtype=tf.float32, name=\"weights1\")\n",
    "weights2 = tf.Variable(weights2_init, dtype=tf.float32, name=\"weights2\")\n",
    "weights3 = tf.Variable(weights3_init, dtype=tf.float32, name=\"weights3\")\n",
    "\n",
    "weights4 = tf.transpose(weights3, name=\"weights4\") # tied weights\n",
    "weights5 = tf.transpose(weights2, name=\"weights5\") # tied weights\n",
    "weights6 = tf.transpose(weights1, name=\"weights6\") # tied weights\n",
    "\n",
    "biases1 = tf.Variable(tf.zeros(n_hidden1), name=\"biases1\")\n",
    "biases2 = tf.Variable(tf.zeros(n_hidden2), name=\"biases2\")\n",
    "biases3 = tf.Variable(tf.zeros(n_hidden3), name=\"biases3\")\n",
    "biases4 = tf.Variable(tf.zeros(n_hidden4), name=\"biases4\")\n",
    "biases5 = tf.Variable(tf.zeros(n_hidden5), name=\"biases5\")\n",
    "biases6 = tf.Variable(tf.zeros(n_outpus),  name=\"biases6\")\n",
    "\n",
    "hidden1 = activation(tf.matmul(X_drop,  weights1) + biases1)\n",
    "hidden2 = activation(tf.matmul(hidden1, weights2) + biases2)\n",
    "hidden3 = activation(tf.matmul(hidden2, weights3) + biases3)\n",
    "hidden4 = activation(tf.matmul(hidden3, weights4) + biases4)\n",
    "hidden5 = activation(tf.matmul(hidden4, weights5) + biases5)\n",
    "outputs = tf.matmul(hidden5, weights6) + biases6\n",
    "\n",
    "codings = hidden3\n",
    "\n",
    "loss = tf.reduce_mean(tf.square(outputs - X)) \n",
    "\n",
    "\n",
    "optimizer = tf.train.AdamOptimizer(learning_rate)\n",
    "training_op = optimizer.minimize(loss)\n",
    "init = tf.global_variables_initializer()"
   ]
  },
  {
   "cell_type": "code",
   "execution_count": 10,
   "metadata": {
    "collapsed": false,
    "scrolled": true
   },
   "outputs": [
    {
     "name": "stdout",
     "output_type": "stream",
     "text": [
      "0.0453142 0.046209\n",
      "0.0311809 0.0317368\n",
      "0.0157574 0.0160441\n",
      "0.0111626 0.0114436\n",
      "0.0100301 0.0103132\n",
      "0.00936914 0.00963365\n",
      "0.00855203 0.008785\n",
      "0.00782745 0.00802922\n",
      "0.00716423 0.0073463\n",
      "0.00679245 0.00697067\n",
      "0.00652792 0.00670228\n",
      "0.00629882 0.00646775\n",
      "0.00609254 0.00625728\n",
      "0.00592058 0.00608264\n",
      "0.00579508 0.00595311\n",
      "0.00570036 0.00585451\n",
      "0.00560776 0.00575756\n",
      "0.00552935 0.00567429\n",
      "0.00544428 0.0055843\n",
      "0.00535046 0.00548453\n",
      "0.00524098 0.00536811\n",
      "0.00511715 0.00523772\n",
      "0.00497836 0.00509284\n",
      "0.00485274 0.00496081\n",
      "0.00473786 0.00483995\n",
      "0.00462626 0.00472458\n",
      "0.00453244 0.00462666\n",
      "0.00444751 0.00453892\n",
      "0.0043508 0.0044399\n",
      "0.00426655 0.00435297\n",
      "0.00418745 0.00427193\n",
      "0.00412309 0.00420576\n",
      "0.00405608 0.00413691\n",
      "0.00399894 0.00407854\n",
      "0.00395865 0.00403701\n",
      "0.00390951 0.00398509\n",
      "0.0038718 0.00394772\n",
      "0.00383192 0.00390682\n",
      "0.00380607 0.00388182\n",
      "0.00377289 0.00384864\n",
      "0.00375432 0.00382774\n",
      "0.00372582 0.00379904\n",
      "0.00369686 0.00376998\n",
      "0.00368442 0.00375745\n",
      "0.00366111 0.00373459\n",
      "0.00365072 0.00372235\n",
      "0.00363422 0.00370616\n",
      "0.00361587 0.00368639\n",
      "0.00360709 0.00367924\n",
      "0.00358643 0.00365715\n",
      "0.00357965 0.00364868\n",
      "0.00356062 0.00363068\n",
      "0.00354778 0.00361766\n",
      "0.00353381 0.00360365\n",
      "0.00351831 0.00358766\n",
      "0.00350847 0.00357704\n",
      "0.00349878 0.00356709\n",
      "0.00348535 0.00355151\n",
      "0.00347386 0.00353956\n",
      "0.00347134 0.00353847\n",
      "0.00345207 0.00351789\n",
      "0.00343978 0.00350495\n",
      "0.00342857 0.0034932\n",
      "0.00342384 0.00348619\n",
      "0.00340932 0.00347213\n",
      "0.00340707 0.00346943\n",
      "0.00339471 0.0034572\n",
      "0.00337768 0.00343865\n",
      "0.0033743 0.00343547\n",
      "0.00336683 0.00342535\n",
      "0.00335609 0.00341447\n",
      "0.00334727 0.00340538\n",
      "0.00333866 0.00339455\n",
      "0.00332907 0.00338457\n",
      "0.00331835 0.00337338\n",
      "0.00331413 0.00336908\n",
      "0.00330232 0.00335602\n",
      "0.0032944 0.00334702\n",
      "0.00329363 0.00334723\n",
      "0.00329274 0.00334647\n",
      "0.00327917 0.00333032\n",
      "0.00326467 0.00331464\n",
      "0.00326004 0.0033099\n",
      "0.00325901 0.00330583\n",
      "0.00323989 0.00328779\n",
      "0.00324232 0.00328912\n",
      "0.00323561 0.00328253\n",
      "0.00322887 0.00327608\n",
      "0.00322194 0.00326896\n",
      "0.00321612 0.00326092\n",
      "0.00321283 0.00325683\n",
      "0.00320251 0.00324646\n",
      "0.0031924 0.00323674\n",
      "0.00319003 0.00323383\n",
      "0.00318107 0.00322362\n",
      "0.00317482 0.003218\n",
      "0.00317773 0.00321984\n",
      "0.00316775 0.00320995\n",
      "0.00315651 0.00319795\n",
      "0.0031491 0.00319135\n",
      "0.00315714 0.00319729\n"
     ]
    }
   ],
   "source": [
    "n_epochs = 1000\n",
    "batch_size = 1000\n",
    "batch_num = len(daysActivities) // batch_size+1\n",
    "with tf.Session() as sess:\n",
    "    init.run()\n",
    "    train_loss_eval = loss.eval(feed_dict={X: trainData})\n",
    "    test_loss_eval  = loss.eval(feed_dict={X: testData})\n",
    "    print(train_loss_eval,test_loss_eval)\n",
    "    for epoch in range(n_epochs):  \n",
    "        for batch in range(batch_num):\n",
    "            X_batch, y_batch = trainData[batch*batch_size:(batch+1)*batch_size],1\n",
    "            sess.run(training_op, feed_dict={X: X_batch,is_training:True})\n",
    "        if epoch%10==0:\n",
    "            train_loss_eval = loss.eval(feed_dict={X: trainData})\n",
    "            test_loss_eval  = loss.eval(feed_dict={X: testData})\n",
    "            print(train_loss_eval,test_loss_eval)\n",
    "    codings_evl = codings.eval(feed_dict={X: daysActivities})"
   ]
  },
  {
   "cell_type": "code",
   "execution_count": 9,
   "metadata": {
    "collapsed": false
   },
   "outputs": [
    {
     "data": {
      "text/plain": [
       "(28675, 8)"
      ]
     },
     "execution_count": 9,
     "metadata": {},
     "output_type": "execute_result"
    }
   ],
   "source": [
    "codings_evl.shape"
   ]
  },
  {
   "cell_type": "code",
   "execution_count": 8,
   "metadata": {
    "collapsed": false
   },
   "outputs": [
    {
     "data": {
      "text/plain": [
       "array([[-0.25414002, -0.63542044,  0.20520274, ...,  0.1217172 ,\n",
       "         0.52474529,  0.79465747],\n",
       "       [-0.3781848 , -0.70458591,  0.14556412, ..., -0.18826151,\n",
       "         1.42599559, -0.62399226],\n",
       "       [-0.65532964, -0.44091332, -0.17544419, ...,  0.17870119,\n",
       "        -0.47779506,  0.77641749],\n",
       "       ..., \n",
       "       [ 0.02384393, -0.73661482,  0.48142409, ...,  0.63410956,\n",
       "         0.62226313, -0.70211512],\n",
       "       [ 0.06161764, -0.72671062,  0.47069463, ...,  0.63366085,\n",
       "         0.57515436, -0.70670128],\n",
       "       [-0.61378884, -0.38293511, -0.00907707, ...,  0.31803232,\n",
       "        -0.40581328,  0.54158503]], dtype=float32)"
      ]
     },
     "execution_count": 8,
     "metadata": {},
     "output_type": "execute_result"
    }
   ],
   "source": [
    "codings_evl"
   ]
  },
  {
   "cell_type": "code",
   "execution_count": null,
   "metadata": {
    "collapsed": false
   },
   "outputs": [],
   "source": [
    "codings_evl"
   ]
  },
  {
   "cell_type": "code",
   "execution_count": null,
   "metadata": {
    "collapsed": true
   },
   "outputs": [],
   "source": []
  }
 ],
 "metadata": {
  "anaconda-cloud": {},
  "kernelspec": {
   "display_name": "Python [conda root]",
   "language": "python",
   "name": "conda-root-py"
  },
  "language_info": {
   "codemirror_mode": {
    "name": "ipython",
    "version": 3
   },
   "file_extension": ".py",
   "mimetype": "text/x-python",
   "name": "python",
   "nbconvert_exporter": "python",
   "pygments_lexer": "ipython3",
   "version": "3.5.2"
  }
 },
 "nbformat": 4,
 "nbformat_minor": 1
}

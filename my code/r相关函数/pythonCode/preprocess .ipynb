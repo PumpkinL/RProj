{
 "cells": [
  {
   "cell_type": "code",
   "execution_count": 1,
   "metadata": {
    "collapsed": true
   },
   "outputs": [],
   "source": [
    "import tensorflow as tf\n",
    "import numpy as np\n",
    "import pandas as pd\n",
    "from tensorflow.contrib.layers import fully_connected"
   ]
  },
  {
   "cell_type": "code",
   "execution_count": 2,
   "metadata": {
    "collapsed": true
   },
   "outputs": [],
   "source": [
    "#set hyperparameters"
   ]
  },
  {
   "cell_type": "code",
   "execution_count": 3,
   "metadata": {
    "collapsed": true
   },
   "outputs": [],
   "source": [
    "alpha=0.001\n",
    "drop_prob = 0.5\n",
    "sessMode  = \"predict\"\n",
    "load_path = \"old\"\n",
    "save_path = \"old\""
   ]
  },
  {
   "cell_type": "code",
   "execution_count": 4,
   "metadata": {
    "collapsed": true
   },
   "outputs": [],
   "source": [
    "#construct the graph"
   ]
  },
  {
   "cell_type": "code",
   "execution_count": 5,
   "metadata": {
    "collapsed": true
   },
   "outputs": [],
   "source": [
    "Prod_size  =10\n",
    "user_size  =10\n",
    "brand_size =10\n",
    "\n",
    "prod_embedding_size  =5\n",
    "user_embedding_size  =10\n",
    "brand_embedding_size =2\n",
    "\n",
    "max_step_num    = 2\n",
    "static_feat_dim = 2\n",
    "n_neurons       = 10\n",
    "\n",
    "n_output        = 10"
   ]
  },
  {
   "cell_type": "code",
   "execution_count": 6,
   "metadata": {
    "collapsed": false
   },
   "outputs": [],
   "source": [
    "prod_embeddings  = tf.Variable(tf.random_uniform([Prod_size,prod_embedding_size], -1.0, 1.0))\n",
    "user_embeddings  = tf.Variable(tf.random_uniform([user_size,user_embedding_size], -1.0, 1.0))\n",
    "brand_embeddings = tf.Variable(tf.random_uniform([brand_size,brand_embedding_size], -1.0, 1.0))"
   ]
  },
  {
   "cell_type": "code",
   "execution_count": 7,
   "metadata": {
    "collapsed": false
   },
   "outputs": [],
   "source": [
    "prod_idx  = tf.placeholder(tf.int32, shape=[None, max_step_num])\n",
    "user_idx  = tf.placeholder(tf.int32, shape=[None, max_step_num])\n",
    "brand_idx = tf.placeholder(tf.int32, shape=[None, max_step_num])\n",
    "\n",
    "seq_length = tf.placeholder(tf.int32, [None])\n",
    "\n",
    "static_feat = tf.placeholder(tf.float32, shape=[None, max_step_num,static_feat_dim])\n",
    "prod_embed  = tf.nn.embedding_lookup(prod_embeddings , prod_idx)\n",
    "user_embed  = tf.nn.embedding_lookup(user_embeddings , user_idx)\n",
    "brand_embed = tf.nn.embedding_lookup(brand_embeddings, brand_idx)\n",
    "\n",
    "y = tf.placeholder(tf.int32,[None])"
   ]
  },
  {
   "cell_type": "code",
   "execution_count": 8,
   "metadata": {
    "collapsed": false
   },
   "outputs": [],
   "source": [
    "final_feat=tf.concat([static_feat,prod_embed,user_embed,brand_embed], 2) "
   ]
  },
  {
   "cell_type": "code",
   "execution_count": 9,
   "metadata": {
    "collapsed": false
   },
   "outputs": [],
   "source": [
    "basic_cell = tf.contrib.rnn.BasicRNNCell(num_units=n_neurons)\n",
    "if sessMode==\"init_train\" or sessMode==\"continue_train\":\n",
    "    basic_cell = tf.contrib.rnn.DropoutWrapper(basic_cell,input_keep_prob=drop_prob)"
   ]
  },
  {
   "cell_type": "code",
   "execution_count": 10,
   "metadata": {
    "collapsed": false
   },
   "outputs": [],
   "source": [
    "outputs, states = tf.nn.dynamic_rnn(basic_cell, final_feat, dtype=tf.float32,sequence_length=seq_length)\n",
    "logits = fully_connected(states, n_output, activation_fn=None)"
   ]
  },
  {
   "cell_type": "code",
   "execution_count": 11,
   "metadata": {
    "collapsed": false
   },
   "outputs": [],
   "source": [
    "xentropy = tf.nn.sparse_softmax_cross_entropy_with_logits(labels=y,logits=logits)\n",
    "loss = tf.reduce_mean(xentropy)"
   ]
  },
  {
   "cell_type": "code",
   "execution_count": 12,
   "metadata": {
    "collapsed": false
   },
   "outputs": [],
   "source": [
    "optimizer = tf.train.AdamOptimizer(learning_rate=alpha)\n",
    "training_op = optimizer.minimize(loss)"
   ]
  },
  {
   "cell_type": "code",
   "execution_count": 13,
   "metadata": {
    "collapsed": false
   },
   "outputs": [],
   "source": [
    "correct = tf.nn.in_top_k(logits,y,1)\n",
    "accuracy = tf.reduce_mean(tf.cast(correct,tf.float32))"
   ]
  },
  {
   "cell_type": "code",
   "execution_count": 14,
   "metadata": {
    "collapsed": true
   },
   "outputs": [],
   "source": [
    "init = tf.global_variables_initializer()"
   ]
  },
  {
   "cell_type": "code",
   "execution_count": 15,
   "metadata": {
    "collapsed": true
   },
   "outputs": [],
   "source": [
    "#feed data and train"
   ]
  },
  {
   "cell_type": "code",
   "execution_count": 16,
   "metadata": {
    "collapsed": true
   },
   "outputs": [],
   "source": [
    "prod_batch = np.array([\n",
    "[1,2], # instance 0\n",
    "[2,0], # instance 1 (padded with a zero vector)\n",
    "[3,2], # instance 2\n",
    "[1,1], # instance 3\n",
    "])\n",
    "user_batch = np.array([\n",
    "[1,2], # instance 0\n",
    "[2,0], # instance 1 (padded with a zero vector)\n",
    "[3,2], # instance 2\n",
    "[1,1], # instance 3\n",
    "])\n",
    "brand_batch = np.array([\n",
    "[1,2], # instance 0\n",
    "[2,0], # instance 1 (padded with a zero vector)\n",
    "[3,2], # instance 2\n",
    "[1,1], # instance 3\n",
    "])\n",
    "\n",
    "static_batch = np.array([\n",
    "# step 0 step 1\n",
    "[[1,2], [2,3]], # instance 0\n",
    "[[3,5], [0,0]], # instance 1 (padded with a zero vector)\n",
    "[[4,2], [1,3]], # instance 2\n",
    "[[6,6], [7,1]], # instance 3\n",
    "])\n",
    "\n",
    "y_batch = np.array([2,1,3,8])\n",
    "seq_length_batch = np.array([2, 2, 2, 2])"
   ]
  },
  {
   "cell_type": "code",
   "execution_count": 17,
   "metadata": {
    "collapsed": true
   },
   "outputs": [],
   "source": [
    "saver = tf.train.Saver()"
   ]
  },
  {
   "cell_type": "code",
   "execution_count": 18,
   "metadata": {
    "collapsed": true
   },
   "outputs": [],
   "source": [
    "n_epochs=100\n",
    "batch_size=100"
   ]
  },
  {
   "cell_type": "code",
   "execution_count": 19,
   "metadata": {
    "collapsed": false
   },
   "outputs": [
    {
     "name": "stdout",
     "output_type": "stream",
     "text": [
      "[2 1 3 8]\n"
     ]
    }
   ],
   "source": [
    "with tf.Session() as sess:\n",
    "    if sessMode==\"init_train\":\n",
    "        init.run()\n",
    "        for epoch in range(n_epochs):\n",
    "            nt,accuracy_eval = sess.run([training_op,accuracy], feed_dict={\n",
    "                    prod_idx: prod_batch,user_idx:user_batch,brand_idx:brand_batch,static_feat:static_batch, \n",
    "                    seq_length: seq_length_batch,y:y_batch})\n",
    "            print(accuracy_eval)\n",
    "        save_path = saver.save(sess,\"/Users/snakepointid/Documents/project/RProj/my code/r相关函数/save/\"+save_path+\"/test.ckpt\")\n",
    "    elif sessMode==\"continue_train\":\n",
    "        saver.restore(sess,\"/Users/snakepointid/Documents/project/RProj/my code/r相关函数/save/\"+load_path+\"/test.ckpt\")\n",
    "        for epoch in range(n_epochs):\n",
    "            nt,accuracy_eval = sess.run([training_op,accuracy], feed_dict={\n",
    "                    prod_idx: prod_batch,user_idx:user_batch,brand_idx:brand_batch,static_feat:static_batch, \n",
    "                    seq_length: seq_length_batch,y:y_batch})\n",
    "            print(accuracy_eval)\n",
    "        save_path = saver.save(sess,\"/Users/snakepointid/Documents/project/RProj/my code/r相关函数/save/\"+save_path+\"/test.ckpt\")\n",
    "    elif sessMode==\"predict\":\n",
    "        saver.restore(sess,\"/Users/snakepointid/Documents/project/RProj/my code/r相关函数/save/\"+load_path+\"/test.ckpt\")\n",
    "        logits_eval = logits.eval(feed_dict={\n",
    "                    prod_idx: prod_batch,user_idx:user_batch,brand_idx:brand_batch,static_feat:static_batch, \n",
    "                    seq_length: seq_length_batch,y:y_batch})\n",
    "        print(logits_eval.argmax(1))\n",
    "    else:\n",
    "        print(\"wrong session type\")"
   ]
  },
  {
   "cell_type": "code",
   "execution_count": null,
   "metadata": {
    "collapsed": true
   },
   "outputs": [],
   "source": []
  }
 ],
 "metadata": {
  "anaconda-cloud": {},
  "kernelspec": {
   "display_name": "Python [Root]",
   "language": "python",
   "name": "Python [Root]"
  },
  "language_info": {
   "codemirror_mode": {
    "name": "ipython",
    "version": 2
   },
   "file_extension": ".py",
   "mimetype": "text/x-python",
   "name": "python",
   "nbconvert_exporter": "python",
   "pygments_lexer": "ipython2",
   "version": "2.7.12"
  }
 },
 "nbformat": 4,
 "nbformat_minor": 1
}

{
 "cells": [
  {
   "cell_type": "code",
   "execution_count": 1,
   "metadata": {
    "collapsed": false
   },
   "outputs": [],
   "source": [
    "from __future__ import division\n",
    "import tensorflow as tf\n",
    "import numpy as np\n",
    "import pandas as pd\n",
    "from tensorflow.contrib.layers import fully_connected"
   ]
  },
  {
   "cell_type": "code",
   "execution_count": 2,
   "metadata": {
    "collapsed": false
   },
   "outputs": [],
   "source": [
    "#load data\n",
    "UserItemPair = pd.read_csv('/Users/snakepointid/Documents/project/JDproj/save/UserItemPair.csv',\n",
    "                      header=0,encoding='gbk' )"
   ]
  },
  {
   "cell_type": "code",
   "execution_count": 3,
   "metadata": {
    "collapsed": true
   },
   "outputs": [],
   "source": [
    "#construct user ,item index\n",
    "user_count=dict()\n",
    "user2idx=dict()\n",
    "idx2user=[]\n",
    "for user_id in UserItemPair['user_id']:\n",
    "    user_count.setdefault(user_id,0)\n",
    "    user_count[user_id]+=1\n",
    "idx=0   \n",
    "for user_id in user_count.keys():\n",
    "    user2idx[user_id]=idx\n",
    "    idx+=1\n",
    "    idx2user.append(user_id)\n",
    "    \n",
    "item_count=dict()\n",
    "item2idx=dict()\n",
    "idx2item=[]\n",
    "for item in UserItemPair['sku_id']:\n",
    "    item_count.setdefault(item,0)\n",
    "    item_count[item]+=1\n",
    "idx=0   \n",
    "for item in item_count.keys():\n",
    "    item2idx[item]=idx\n",
    "    idx+=1\n",
    "    idx2item.append(item)\n"
   ]
  },
  {
   "cell_type": "code",
   "execution_count": 4,
   "metadata": {
    "collapsed": false
   },
   "outputs": [],
   "source": [
    "#transfer the raw to index\n",
    "users  = np.array([user2idx[user_id] for user_id in UserItemPair['user_id']],dtype=np.int32)\n",
    "items  = np.array([item2idx[item]    for item    in UserItemPair['sku_id']] ,dtype=np.int32)\n",
    "labels = np.array([label             for label    in UserItemPair['label']] ,dtype=np.float32)\n",
    "labels = labels.reshape((labels.shape[0],1))\n",
    "trainNum = int(len(users)*0.8)\n",
    "\n",
    "train_users = users[:trainNum]\n",
    "test_users  = users[trainNum:]\n",
    "\n",
    "train_items = items[:trainNum]\n",
    "test_items  = items[trainNum:]\n",
    "\n",
    "train_labels= labels[:trainNum] \n",
    "test_labels = labels[trainNum:]"
   ]
  },
  {
   "cell_type": "code",
   "execution_count": 5,
   "metadata": {
    "collapsed": true
   },
   "outputs": [],
   "source": [
    "##initial embeddings\n",
    "item_Num = len(idx2item)\n",
    "item_embedding_size = 100\n",
    "user_Num = len(idx2user)\n",
    "user_embedding_size =100\n",
    "item_embeddings  = tf.Variable(tf.random_uniform([item_Num,item_embedding_size], -1.0, 1.0))\n",
    "user_embeddings  = tf.Variable(tf.random_uniform([user_Num,user_embedding_size], -1.0, 1.0))"
   ]
  },
  {
   "cell_type": "code",
   "execution_count": 6,
   "metadata": {
    "collapsed": true
   },
   "outputs": [],
   "source": [
    "#initial input and output\n",
    "n_outputs = 1\n",
    "itemInputIdx  = tf.placeholder(tf.int32, shape=[None])\n",
    "userInputIdx  = tf.placeholder(tf.int32, shape=[None])\n",
    "y             = tf.placeholder(tf.float32,[None,n_outputs])\n",
    "\n",
    "item_embed  = tf.nn.embedding_lookup(item_embeddings , itemInputIdx)\n",
    "user_embed  = tf.nn.embedding_lookup(user_embeddings , userInputIdx)\n",
    "\n",
    "MLPinput    = tf.concat([item_embed,user_embed],1) "
   ]
  },
  {
   "cell_type": "code",
   "execution_count": 7,
   "metadata": {
    "collapsed": false
   },
   "outputs": [],
   "source": [
    "#construnct mlp\n",
    "n_hidden = 100\n",
    "with tf.name_scope(\"mlp\"):\n",
    "    hidden = fully_connected(MLPinput, n_hidden,  scope=\"hidden\",activation_fn=tf.tanh)\n",
    "    logits = fully_connected(hidden  , n_outputs, scope=\"outputs\",activation_fn=None)"
   ]
  },
  {
   "cell_type": "code",
   "execution_count": 8,
   "metadata": {
    "collapsed": false
   },
   "outputs": [],
   "source": [
    "#define loss function \n",
    "with tf.name_scope(\"loss\"):\n",
    "    xentropy = tf.nn.sigmoid_cross_entropy_with_logits(logits=logits, labels=y)\n",
    "    loss     = tf.reduce_mean(xentropy, name=\"loss\")"
   ]
  },
  {
   "cell_type": "code",
   "execution_count": 9,
   "metadata": {
    "collapsed": false,
    "scrolled": true
   },
   "outputs": [],
   "source": [
    "#learning and optimizer\n",
    "learning_rate = 0.00001\n",
    "with tf.name_scope(\"train\"):\n",
    "    optimizer = tf.train.AdamOptimizer(learning_rate)\n",
    "    training_op = optimizer.minimize(loss)"
   ]
  },
  {
   "cell_type": "code",
   "execution_count": 10,
   "metadata": {
    "collapsed": true
   },
   "outputs": [],
   "source": [
    "#eval the model\n",
    "with tf.name_scope(\"eval\"):\n",
    "    prediction = tf.round(tf.sigmoid(logits))\n",
    "    correct    = tf.cast(tf.equal(prediction, y),tf.float32)\n",
    "    accuracy   = tf.reduce_mean(tf.cast(correct, tf.float32))"
   ]
  },
  {
   "cell_type": "code",
   "execution_count": 11,
   "metadata": {
    "collapsed": false
   },
   "outputs": [],
   "source": [
    "#initial and save\n",
    "init = tf.global_variables_initializer()\n",
    "saver = tf.train.Saver()"
   ]
  },
  {
   "cell_type": "code",
   "execution_count": 12,
   "metadata": {
    "collapsed": false
   },
   "outputs": [
    {
     "name": "stdout",
     "output_type": "stream",
     "text": [
      "(0.89830625, 0.89741957)\n"
     ]
    }
   ],
   "source": [
    "#start training\n",
    "n_epochs   = 20\n",
    "batch_size = 2000\n",
    "batch_num  = len(train_users)//batch_size+1\n",
    "with tf.Session() as sess:    \n",
    "    init.run()\n",
    "    for epoch in range(n_epochs):\n",
    "        for batch in range(batch_num):\n",
    "            #feed rawdata\n",
    "            item_batch       = train_items [batch*batch_size:(batch+1)*batch_size]\n",
    "            user_batch       = train_users [batch*batch_size:(batch+1)*batch_size]   \n",
    "            y_batch          = train_labels[batch*batch_size:(batch+1)*batch_size]\n",
    "            #training\n",
    "            sess.run(training_op, feed_dict={ itemInputIdx: item_batch,userInputIdx:user_batch,y:y_batch})            \n",
    "    train_acc = accuracy.eval(feed_dict={ itemInputIdx: train_items,userInputIdx:train_users,y:train_labels}) \n",
    "    Test_acc  = accuracy.eval(feed_dict={ itemInputIdx: test_items, userInputIdx:test_users, y:test_labels}) \n",
    "    print(train_acc,Test_acc)\n",
    "    save_path = saver.save(sess,\"/Users/snakepointid/Documents/project/JDproj/save/user_item_embed/userEmbed.ckpt\")\n",
    "    itemEmbed = item_embeddings.eval()\n",
    "    userEmbed = user_embeddings.eval()"
   ]
  },
  {
   "cell_type": "code",
   "execution_count": 13,
   "metadata": {
    "collapsed": true
   },
   "outputs": [],
   "source": [
    "#save embedding\n",
    "userEmbed = pd.DataFrame(userEmbed)\n",
    "userEmbed[\"user_id\"]=np.array(idx2user)\n",
    "\n",
    "itemEmbed = pd.DataFrame(itemEmbed)\n",
    "itemEmbed[\"user_id\"]=np.array(idx2item)"
   ]
  },
  {
   "cell_type": "code",
   "execution_count": 14,
   "metadata": {
    "collapsed": true
   },
   "outputs": [],
   "source": [
    "userEmbed.to_csv(\"/Users/snakepointid/Documents/project/JDproj/save/UserEmbeddings.csv\",encoding='gbk',index=False)\n",
    "itemEmbed.to_csv(\"/Users/snakepointid/Documents/project/JDproj/save/itemEmbeddings.csv\",encoding='gbk',index=False)"
   ]
  },
  {
   "cell_type": "code",
   "execution_count": 15,
   "metadata": {
    "collapsed": false
   },
   "outputs": [
    {
     "data": {
      "text/plain": [
       "4377"
      ]
     },
     "execution_count": 15,
     "metadata": {},
     "output_type": "execute_result"
    }
   ],
   "source": [
    "len(itemEmbed)"
   ]
  },
  {
   "cell_type": "code",
   "execution_count": null,
   "metadata": {
    "collapsed": true
   },
   "outputs": [],
   "source": []
  }
 ],
 "metadata": {
  "anaconda-cloud": {},
  "kernelspec": {
   "display_name": "Python [Root]",
   "language": "python",
   "name": "Python [Root]"
  },
  "language_info": {
   "codemirror_mode": {
    "name": "ipython",
    "version": 2
   },
   "file_extension": ".py",
   "mimetype": "text/x-python",
   "name": "python",
   "nbconvert_exporter": "python",
   "pygments_lexer": "ipython2",
   "version": "2.7.12"
  }
 },
 "nbformat": 4,
 "nbformat_minor": 1
}
